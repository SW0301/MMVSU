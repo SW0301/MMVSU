{
  "nbformat": 4,
  "nbformat_minor": 0,
  "metadata": {
    "colab": {
      "provenance": [],
      "authorship_tag": "ABX9TyOAcP8TblQy3IQ9i89g09/i",
      "include_colab_link": true
    },
    "kernelspec": {
      "name": "python3",
      "display_name": "Python 3"
    },
    "language_info": {
      "name": "python"
    }
  },
  "cells": [
    {
      "cell_type": "markdown",
      "metadata": {
        "id": "view-in-github",
        "colab_type": "text"
      },
      "source": [
        "<a href=\"https://colab.research.google.com/github/SW0301/MMVSU/blob/main/Lab2.ipynb\" target=\"_parent\"><img src=\"https://colab.research.google.com/assets/colab-badge.svg\" alt=\"Open In Colab\"/></a>"
      ]
    },
    {
      "cell_type": "markdown",
      "source": [
        "# Лабораторная работа №2\n",
        "## Нижний Новгород"
      ],
      "metadata": {
        "id": "YeDQL0-XZ706"
      }
    },
    {
      "cell_type": "markdown",
      "source": [
        "### 1\n"
      ],
      "metadata": {
        "id": "TwVIGsCWb0-3"
      }
    },
    {
      "cell_type": "code",
      "source": [
        "import matplotlib.pyplot as plt\n",
        "import numpy as np\n",
        "from scipy.integrate import odeint\n",
        "import pandas as pd\n",
        "\n",
        "year = []\n",
        "for i in range(1991,2021):\n",
        "  year.append(i)\n",
        "\n",
        "\n",
        "\n",
        "population = [1445000, 1441000, 1433000, 1425000, 1379000, 1372000, \n",
        "                      1371000\t, 1364000, 1364900, 1357000, 1343300, 1311252, 1309000,\n",
        "                      1296800, 1289500, 1283600, 1278000, 1274700, 1272527, 1250619, \n",
        "                      1250600\t, 1254592, 1259921, 1263873, 1267760, 1266871, 1264075, \n",
        "                      1259013, 1253511, 1252236\t]\n",
        "plt.subplot(1, 2, 1)\n",
        "plt.plot(year, population)\n",
        "\n",
        "plt.xlabel('Год')\n",
        "plt.ylabel('Население')\n",
        "plt.title('1')\n",
        "plt.show()\n",
        "\n",
        "def k(x):\n",
        "    return -x/3\n",
        "def dxdt(x, t):\n",
        "    return k(x) * x\n",
        "\n",
        "\n",
        "t = np.linspace(1991, 2021, 30) \n",
        "\n",
        "solve = odeint(dxdt, y0=14, t=t)\n",
        "solve = solve.flatten()\n",
        "\n",
        "plt.subplot(1, 2, 2)\n",
        "plt.plot(t, solve)\n",
        "plt.xlabel('Год')\n",
        "plt.ylabel('Население')\n",
        "plt.title('2')\n",
        "plt.show()"
      ],
      "metadata": {
        "colab": {
          "base_uri": "https://localhost:8080/",
          "height": 573
        },
        "id": "cR2HctlUaR_P",
        "outputId": "e6dc6faf-a437-4c4e-fa39-40e485d00178"
      },
      "execution_count": 57,
      "outputs": [
        {
          "output_type": "display_data",
          "data": {
            "text/plain": [
              "<Figure size 432x288 with 1 Axes>"
            ],
            "image/png": "[encoded data removed]"
          },
          "metadata": {
            "needs_background": "light"
          }
        },
        {
          "output_type": "display_data",
          "data": {
            "text/plain": [
              "<Figure size 432x288 with 1 Axes>"
            ],
            "image/png": "[encoded data removed]"
          },
          "metadata": {
            "needs_background": "light"
          }
        }
      ]
    }
  ]
}