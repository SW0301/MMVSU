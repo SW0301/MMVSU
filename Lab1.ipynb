{
  "nbformat": 4,
  "nbformat_minor": 0,
  "metadata": {
    "colab": {
      "provenance": [],
      "toc_visible": true,
      "authorship_tag": "ABX9TyObaAUs7l6Zr/YDaHGfL0Bq",
      "include_colab_link": true
    },
    "kernelspec": {
      "name": "python3",
      "display_name": "Python 3"
    },
    "language_info": {
      "name": "python"
    }
  },
  "cells": [
    {
      "cell_type": "markdown",
      "metadata": {
        "id": "view-in-github",
        "colab_type": "text"
      },
      "source": [
        "<a href=\"https://colab.research.google.com/github/SW0301/MMVSU/blob/main/Lab1.ipynb\" target=\"_parent\"><img src=\"https://colab.research.google.com/assets/colab-badge.svg\" alt=\"Open In Colab\"/></a>"
      ]
    },
    {
      "cell_type": "markdown",
      "source": [
        "# Лабораторная работа 1\n"
      ],
      "metadata": {
        "id": "MW0X6DQwX064"
      }
    },
    {
      "cell_type": "markdown",
      "source": [
        "## Нормер 1"
      ],
      "metadata": {
        "id": "bCnky8EuYJ6s"
      }
    },
    {
      "cell_type": "markdown",
      "source": [
        "$x'= kx$\\\n",
        "$k=0.42$"
      ],
      "metadata": {
        "id": "J6lvbZn6XEof"
      }
    },
    {
      "cell_type": "code",
      "execution_count": 92,
      "metadata": {
        "id": "1CCyaOjZppff"
      },
      "outputs": [],
      "source": [
        "import matplotlib.pyplot as plt\n",
        "import numpy as np\n",
        "from scipy.integrate import odeint"
      ]
    },
    {
      "cell_type": "code",
      "source": [
        "def dxdt(x,t):\n",
        "    k=0.42\n",
        "    return k * x\n",
        "\n",
        "t = np.linspace(0, 10, 100) \n"
      ],
      "metadata": {
        "id": "BxKWmyL1YWL2"
      },
      "execution_count": 108,
      "outputs": []
    },
    {
      "cell_type": "code",
      "source": [
        "solve = odeint(dxdt, y0=1, t=t)\n",
        "solve = solve.flatten()"
      ],
      "metadata": {
        "id": "NjmOM_oesTph"
      },
      "execution_count": 109,
      "outputs": []
    },
    {
      "cell_type": "code",
      "source": [
        "plt.plot(t, solve, label = r\"$x' = kx$\")\n",
        "plt.grid(True)\n",
        "plt.legend()\n",
        "plt.show()"
      ],
      "metadata": {
        "colab": {
          "base_uri": "https://localhost:8080/",
          "height": 265
        },
        "id": "YZAtHhKaszA7",
        "outputId": "44e8f32c-4a98-4761-ee9c-98e5ee5a01be"
      },
      "execution_count": 110,
      "outputs": [
        {
          "output_type": "display_data",
          "data": {
            "text/plain": [
              "<Figure size 432x288 with 1 Axes>"
            ],
            "image/png": "[encoded data removed]"
          },
          "metadata": {
            "needs_background": "light"
          }
        }
      ]
    },
    {
      "cell_type": "markdown",
      "source": [
        "## Номер 2"
      ],
      "metadata": {
        "id": "-qR28rjXYd3Q"
      }
    },
    {
      "cell_type": "markdown",
      "source": [
        "$x'=k(x)*x$\\\n",
        "$k(x)=ax-b$\\\n",
        "$a = 1, b = 1$"
      ],
      "metadata": {
        "id": "XmUgtBIoZFKn"
      }
    },
    {
      "cell_type": "code",
      "source": [
        "def k(x):\n",
        "    return 1*x-1\n",
        "def dxdt(x, t):\n",
        "    return k(x) * x\n",
        "\n",
        "\n",
        "t = np.linspace(0, 10, 100) "
      ],
      "metadata": {
        "id": "fu9t8r6PYe6V"
      },
      "execution_count": 105,
      "outputs": []
    },
    {
      "cell_type": "code",
      "source": [
        "solve = odeint(dxdt, y0=1, t=t)\n",
        "solve = solve.flatten()"
      ],
      "metadata": {
        "id": "sxgDNHwyYqoF"
      },
      "execution_count": 106,
      "outputs": []
    },
    {
      "cell_type": "code",
      "source": [
        "plt.plot(t, solve, label = r\"$x' = k(x)*x$\")\n",
        "plt.grid(True)\n",
        "plt.legend()\n",
        "plt.show()"
      ],
      "metadata": {
        "colab": {
          "base_uri": "https://localhost:8080/",
          "height": 265
        },
        "id": "4OZZn67IYxHD",
        "outputId": "7b68e51e-eeae-43dc-e36c-3c2302d4c340"
      },
      "execution_count": 107,
      "outputs": [
        {
          "output_type": "display_data",
          "data": {
            "text/plain": [
              "<Figure size 432x288 with 1 Axes>"
            ],
            "image/png": "[encoded data removed]"
          },
          "metadata": {
            "needs_background": "light"
          }
        }
      ]
    },
    {
      "cell_type": "markdown",
      "source": [
        "## Номер 3\n",
        "$x'=k(x)*x-c$\\\n",
        "$k(x)=a*x+b$\\\n",
        "$a = 1, b = -1$\\\n",
        "$c = 1$"
      ],
      "metadata": {
        "id": "7T3TqgFecFDx"
      }
    },
    {
      "cell_type": "code",
      "source": [
        "def k(x):\n",
        "    return 1*x-1\n",
        "def dxdt(x, t):\n",
        "    return k(x) * x - 1\n",
        "\n",
        "t = np.linspace(0, 10, 100) "
      ],
      "metadata": {
        "id": "oCoIsBm9cUl7"
      },
      "execution_count": 99,
      "outputs": []
    },
    {
      "cell_type": "code",
      "source": [
        "solve = odeint(dxdt, y0=1, t=t)\n",
        "solve = solve.flatten()"
      ],
      "metadata": {
        "id": "t3MA6fxFcjNb"
      },
      "execution_count": 100,
      "outputs": []
    },
    {
      "cell_type": "code",
      "source": [
        "plt.plot(t, solve, label = r\"$x' = k(x)*x - c$\")\n",
        "plt.grid(True)\n",
        "plt.legend()\n",
        "plt.show()"
      ],
      "metadata": {
        "colab": {
          "base_uri": "https://localhost:8080/",
          "height": 265
        },
        "id": "jZ7l--4gckrP",
        "outputId": "77d936e2-90dc-491e-a78f-becb3617e195"
      },
      "execution_count": 101,
      "outputs": [
        {
          "output_type": "display_data",
          "data": {
            "text/plain": [
              "<Figure size 432x288 with 1 Axes>"
            ],
            "image/png": "[encoded data removed]"
          },
          "metadata": {
            "needs_background": "light"
          }
        }
      ]
    },
    {
      "cell_type": "markdown",
      "source": [
        "## Номер 4\n",
        "$x'=k(x)x-c(x)$\\\n",
        "$k(x)=ax-b$\\\n",
        "$a = 1, b = 2$\\\n",
        "$c(x)=f*x$\\\n",
        "$f = 2$\n",
        "\n"
      ],
      "metadata": {
        "id": "09D3n1N_cvAr"
      }
    },
    {
      "cell_type": "code",
      "source": [
        "def k(x):\n",
        "    return 1*x-2\n",
        "def c(x):\n",
        "    return 2*x\n",
        "def dxdt(x, t):\n",
        "    return k(x) * x - c(x)\n",
        "\n",
        "t = np.linspace(0, 10, 100) "
      ],
      "metadata": {
        "id": "UuzHaXTYdEsM"
      },
      "execution_count": 102,
      "outputs": []
    },
    {
      "cell_type": "code",
      "source": [
        "solve = odeint(dxdt, y0=1, t=t)\n",
        "solve = solve.flatten()"
      ],
      "metadata": {
        "id": "5c7GCsQvdUAZ"
      },
      "execution_count": 103,
      "outputs": []
    },
    {
      "cell_type": "code",
      "source": [
        "plt.plot(t, solve, label = r\"$x' = k(x)*x - c(x)$\")\n",
        "plt.grid(True)\n",
        "plt.legend()\n",
        "plt.show()"
      ],
      "metadata": {
        "colab": {
          "base_uri": "https://localhost:8080/",
          "height": 265
        },
        "id": "w22T0RXRdVck",
        "outputId": "cf69ef47-3d26-4b15-b7d0-38869b9bbd27"
      },
      "execution_count": 104,
      "outputs": [
        {
          "output_type": "display_data",
          "data": {
            "text/plain": [
              "<Figure size 432x288 with 1 Axes>"
            ],
            "image/png": "[encoded data removed]"
          },
          "metadata": {
            "needs_background": "light"
          }
        }
      ]
    }
  ]
}